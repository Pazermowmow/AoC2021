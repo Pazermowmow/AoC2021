{
 "cells": [
  {
   "cell_type": "code",
   "execution_count": 4,
   "id": "c53de921",
   "metadata": {},
   "outputs": [
    {
     "data": {
      "text/plain": [
       "1706"
      ]
     },
     "execution_count": 4,
     "metadata": {},
     "output_type": "execute_result"
    }
   ],
   "source": [
    "# Day 1\n",
    "\n",
    "measurements = [int(x) for x in open('input1.txt', 'r').readlines()]\n",
    "\n",
    "def count_increases(l: list) -> int:\n",
    "    pairs = zip(l, l[1:])\n",
    "    increases = [b - a for a,b in pairs if b - a > 0]\n",
    "    return len(increases)\n",
    "\n",
    "# Part 1\n",
    "count_increases(measurements)\n",
    "\n",
    "# Part 2\n",
    "roll = 3\n",
    "avgs = []\n",
    "for i in range(len(measurements)-roll+1):\n",
    "    avg = 0\n",
    "    for j in range(0, roll):\n",
    "        avg += measurements[i+j]\n",
    "    avgs.append(avg/roll)\n",
    "    \n",
    "count_increases(avgs)"
   ]
  },
  {
   "cell_type": "code",
   "execution_count": 8,
   "id": "a2937dea",
   "metadata": {},
   "outputs": [
    {
     "name": "stdout",
     "output_type": "stream",
     "text": [
      "Resulting double points only vert/hor: 6666\n",
      "Resulting double points vert/hor/diag: 19081\n"
     ]
    }
   ],
   "source": [
    "import sys\n",
    "import numpy as np\n",
    " \n",
    " \n",
    "def convert_line(list_input_pts, consider_diag) -> list:\n",
    "    points = [[int(x) for x in pt.split(\",\")] for pt in list_input_pts]\n",
    "    diff_vec = [points[1][0] - points[0][0], points[1][1] - points[0][1]]\n",
    "    if points[0][0] != points[1][0] and points[0][1] != points[1][1]:  # not x-y axis\n",
    "        if not consider_diag:\n",
    "            return None\n",
    "        elif abs(diff_vec[0]) != abs(diff_vec[1]):  # not diagonal\n",
    "            return None\n",
    " \n",
    "    len_diff_vec = max(abs(diff_vec[0]), abs(diff_vec[1]))  # if one is 0 => non-zero value, if diag both equal\n",
    "    abs_diff_vec = [int(diff_vec[0]/len_diff_vec), int(diff_vec[1]/len_diff_vec)]\n",
    " \n",
    "    return [[points[0][0] + i*abs_diff_vec[0], points[0][1] + i*abs_diff_vec[1]] for i in range(0, len_diff_vec + 1)]\n",
    " \n",
    " \n",
    "if __name__ == '__main__':\n",
    "    with open(\"input5.txt\", \"r\") as f:\n",
    "        coords = [line.split(\" -> \") for line in f.read().splitlines()]\n",
    "        dim = 10 if len(coords) == 10 else 1000\n",
    "        map_thermal_smp = np.zeros((dim, dim))\n",
    "        map_thermal_compl = np.zeros((dim, dim))\n",
    "        for line in coords:\n",
    "            output_pts_simple = convert_line(line, False)\n",
    "            output_pts_complex = convert_line(line, True)\n",
    "            if output_pts_simple:\n",
    "                for point in output_pts_simple:\n",
    "                    map_thermal_smp[point[0]][point[1]] = np.nan if map_thermal_smp[point[0]][point[1]] == 0 else 1\n",
    "            if output_pts_complex:\n",
    "                for point in output_pts_complex:\n",
    "                    map_thermal_compl[point[0]][point[1]] = np.nan if map_thermal_compl[point[0]][point[1]] == 0 else 1\n",
    " \n",
    "        print(\"Resulting double points only vert/hor: \" + str(int(np.nansum(map_thermal_smp))))\n",
    "        print(\"Resulting double points vert/hor/diag: \" + str(int(np.nansum(map_thermal_compl))))"
   ]
  },
  {
   "cell_type": "code",
   "execution_count": 16,
   "id": "422b50c4",
   "metadata": {},
   "outputs": [
    {
     "ename": "TypeError",
     "evalue": "'_io.TextIOWrapper' object is not subscriptable",
     "output_type": "error",
     "traceback": [
      "\u001b[1;31m---------------------------------------------------------------------------\u001b[0m",
      "\u001b[1;31mTypeError\u001b[0m                                 Traceback (most recent call last)",
      "\u001b[1;32m<ipython-input-16-713f7c397ef4>\u001b[0m in \u001b[0;36m<module>\u001b[1;34m\u001b[0m\n\u001b[0;32m     18\u001b[0m     \u001b[0midx\u001b[0m \u001b[1;33m+=\u001b[0m \u001b[1;36m1\u001b[0m\u001b[1;33m\u001b[0m\u001b[1;33m\u001b[0m\u001b[0m\n\u001b[0;32m     19\u001b[0m \u001b[1;33m\u001b[0m\u001b[0m\n\u001b[1;32m---> 20\u001b[1;33m \u001b[0mn\u001b[0m\u001b[1;33m,\u001b[0m \u001b[0mm\u001b[0m\u001b[1;33m,\u001b[0m \u001b[0mH\u001b[0m \u001b[1;33m=\u001b[0m \u001b[0msys\u001b[0m\u001b[1;33m.\u001b[0m\u001b[0mstdin\u001b[0m\u001b[1;33m[\u001b[0m\u001b[1;36m1\u001b[0m\u001b[1;33m]\u001b[0m\u001b[1;33m.\u001b[0m\u001b[0msplit\u001b[0m\u001b[1;33m(\u001b[0m\u001b[1;34m\" \"\u001b[0m\u001b[1;33m)\u001b[0m\u001b[1;33m\u001b[0m\u001b[1;33m\u001b[0m\u001b[0m\n\u001b[0m\u001b[0;32m     21\u001b[0m \u001b[0moutput\u001b[0m \u001b[1;33m=\u001b[0m \u001b[0mclimb\u001b[0m\u001b[1;33m(\u001b[0m\u001b[0mn\u001b[0m\u001b[1;33m,\u001b[0m \u001b[0mm\u001b[0m\u001b[1;33m,\u001b[0m \u001b[0mH\u001b[0m\u001b[1;33m)\u001b[0m\u001b[1;33m\u001b[0m\u001b[1;33m\u001b[0m\u001b[0m\n\u001b[0;32m     22\u001b[0m \u001b[0mprint\u001b[0m\u001b[1;33m(\u001b[0m\u001b[0moutput\u001b[0m\u001b[1;33m)\u001b[0m\u001b[1;33m\u001b[0m\u001b[1;33m\u001b[0m\u001b[0m\n",
      "\u001b[1;31mTypeError\u001b[0m: '_io.TextIOWrapper' object is not subscriptable"
     ]
    }
   ],
   "source": [
    "import sys\n",
    "\n",
    "def climb(n, m, H):\n",
    "    n, m, H = int(n), int(m), int(H)\n",
    "    current = 0\n",
    "    days = 0\n",
    "    while True:\n",
    "        days += 1\n",
    "        current += n\n",
    "        if current >= H:\n",
    "            return days\n",
    "        current -= m\n",
    "\n",
    "idx = 0\n",
    "for line in sys.stdin:\n",
    "    print(idx)\n",
    "    print(line, end=\"\")\n",
    "    idx \n",
    "    \n",
    "n, m, H = sys.stdin[1].split(\" \")\n",
    "output = climb(n, m, H)\n",
    "print(output)"
   ]
  },
  {
   "cell_type": "code",
   "execution_count": 10,
   "id": "506ef81a",
   "metadata": {},
   "outputs": [
    {
     "data": {
      "text/plain": [
       "9"
      ]
     },
     "execution_count": 10,
     "metadata": {},
     "output_type": "execute_result"
    }
   ],
   "source": [
    "climb(n, m, H)"
   ]
  },
  {
   "cell_type": "code",
   "execution_count": 17,
   "id": "590377fe",
   "metadata": {},
   "outputs": [
    {
     "name": "stdout",
     "output_type": "stream",
     "text": [
      "0|1|2|3|"
     ]
    }
   ],
   "source": [
    "for i in range(4):\n",
    "    print(i, end=\"|\")"
   ]
  },
  {
   "cell_type": "code",
   "execution_count": 12,
   "id": "4dfbe388",
   "metadata": {},
   "outputs": [],
   "source": [
    "import sys"
   ]
  },
  {
   "cell_type": "code",
   "execution_count": 15,
   "id": "2c356bd9",
   "metadata": {},
   "outputs": [],
   "source": [
    "for x in sys.stdin:\n",
    "    print(x)"
   ]
  },
  {
   "cell_type": "code",
   "execution_count": null,
   "id": "af810819",
   "metadata": {},
   "outputs": [],
   "source": [
    "n, m, H = sys.stdin[1].split(\" \")"
   ]
  },
  {
   "cell_type": "code",
   "execution_count": null,
   "id": "b84758a6",
   "metadata": {},
   "outputs": [],
   "source": []
  },
  {
   "cell_type": "code",
   "execution_count": 38,
   "id": "1950601a",
   "metadata": {},
   "outputs": [
    {
     "data": {
      "text/plain": [
       "3549854"
      ]
     },
     "execution_count": 38,
     "metadata": {},
     "output_type": "execute_result"
    }
   ],
   "source": [
    "import numpy as np\n",
    "\n",
    "with open(\"adventnumbers.txt\", \"r\") as file:\n",
    "    x = file.read()\n",
    "sp = x.split(\"\\n\")\n",
    "gamma = \"\"\n",
    "line_length = len(sp[0])\n",
    "for i in range(line_length):\n",
    "    count0, count1 = 0, 0\n",
    "    for line in sp:\n",
    "        if line[i] == \"0\":\n",
    "            count0 += 1\n",
    "        else:\n",
    "            count1 += 1\n",
    "    gamma += \"0\" if count0 > count1 else \"1\"\n",
    "    \n",
    "epsilon = \"\"\n",
    "for j in gamma:\n",
    "    epsilon += \"0\" if j == \"1\" else \"1\"\n",
    "    \n",
    "int(gamma, 2) * int(epsilon, 2)"
   ]
  },
  {
   "cell_type": "code",
   "execution_count": 35,
   "id": "677b059f",
   "metadata": {},
   "outputs": [
    {
     "data": {
      "text/plain": [
       "2849"
      ]
     },
     "execution_count": 35,
     "metadata": {},
     "output_type": "execute_result"
    }
   ],
   "source": [
    "int(gamma, 2)"
   ]
  },
  {
   "cell_type": "code",
   "execution_count": 10,
   "id": "ad20752d",
   "metadata": {},
   "outputs": [
    {
     "ename": "SyntaxError",
     "evalue": "invalid syntax (<ipython-input-10-3c3b6fa8dd5b>, line 1)",
     "output_type": "error",
     "traceback": [
      "\u001b[1;36m  File \u001b[1;32m\"<ipython-input-10-3c3b6fa8dd5b>\"\u001b[1;36m, line \u001b[1;32m1\u001b[0m\n\u001b[1;33m    np.array(sp*)\u001b[0m\n\u001b[1;37m                ^\u001b[0m\n\u001b[1;31mSyntaxError\u001b[0m\u001b[1;31m:\u001b[0m invalid syntax\n"
     ]
    }
   ],
   "source": []
  },
  {
   "cell_type": "code",
   "execution_count": null,
   "id": "1cbd4545",
   "metadata": {},
   "outputs": [],
   "source": []
  }
 ],
 "metadata": {
  "kernelspec": {
   "display_name": "Python 3",
   "language": "python",
   "name": "python3"
  },
  "language_info": {
   "codemirror_mode": {
    "name": "ipython",
    "version": 3
   },
   "file_extension": ".py",
   "mimetype": "text/x-python",
   "name": "python",
   "nbconvert_exporter": "python",
   "pygments_lexer": "ipython3",
   "version": "3.8.8"
  }
 },
 "nbformat": 4,
 "nbformat_minor": 5
}
